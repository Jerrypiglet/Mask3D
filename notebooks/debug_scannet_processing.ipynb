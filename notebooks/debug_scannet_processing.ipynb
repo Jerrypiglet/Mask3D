{
 "cells": [
  {
   "cell_type": "code",
   "execution_count": 3,
   "metadata": {},
   "outputs": [
    {
     "name": "stdout",
     "output_type": "stream",
     "text": [
      "The autoreload extension is already loaded. To reload it, use:\n",
      "  %reload_ext autoreload\n",
      "label database existed; not creating a new one. /home/ruizhu/Documents/Projects/Mask3D/data/processed/scannet/label_database.yaml\n"
     ]
    }
   ],
   "source": [
    "%load_ext autoreload\n",
    "%autoreload 2\n",
    "\n",
    "import glob\n",
    "from pathlib import Path\n",
    "import multiprocessing as mp\n",
    "import os\n",
    "# fmt: off\n",
    "import sys\n",
    "module_path = os.path.abspath(os.path.join('..'))\n",
    "if module_path not in sys.path:\n",
    "    sys.path.append(module_path)\n",
    "    \n",
    "from datasets.preprocessing.scannet_preprocessing import ScannetPreprocessing\n",
    "\n",
    "scannet_processor = ScannetPreprocessing(\n",
    "    data_dir=\"/newfoundland/ScanNet\", \n",
    "    save_dir=str(Path(module_path) / \"data/processed/scannet\"), \n",
    "    git_repo=str(Path(module_path) / \"third_party/ScanNet\"), \n",
    "    scannet200='false'\n",
    ")"
   ]
  },
  {
   "cell_type": "code",
   "execution_count": 4,
   "metadata": {},
   "outputs": [
    {
     "name": "stdout",
     "output_type": "stream",
     "text": [
      "312 /newfoundland/ScanNet/scans/scene0329_01/scene0329_01_vh_clean_2.ply\n",
      "329 1\n"
     ]
    }
   ],
   "source": [
    "import re\n",
    "'''\n",
    "looks like 1 scenes by 3 scans: \n",
    "    - scene0055_00_vh_clean_2.ply\n",
    "    - scene0055_01_vh_clean_2.ply\n",
    "    - scene0055_02_vh_clean_2.ply\n",
    "'''\n",
    "_idx = 100\n",
    "filepath = scannet_processor.files['validation'][_idx]\n",
    "print(len(scannet_processor.files['validation']), filepath)\n",
    "\n",
    "# scene, sub_scene = ScannetPreprocessing._parse_scene_subscene(scannet_processor.files['validation'][0].name)\n",
    "\n",
    "scene_match = re.match(r\"scene(\\d{4})_(\\d{2})\", filepath.name)\n",
    "scene, sub_scene = int(scene_match.group(1)), int(scene_match.group(2))\n",
    "filebase = {\n",
    "    \"filepath\": filepath,\n",
    "    \"scene\": scene,\n",
    "    \"sub_scene\": sub_scene,\n",
    "    \"raw_filepath\": str(filepath),\n",
    "    \"file_len\": -1,\n",
    "}\n",
    "\n",
    "print(scene, sub_scene)\n"
   ]
  },
  {
   "cell_type": "code",
   "execution_count": 5,
   "metadata": {},
   "outputs": [
    {
     "name": "stdout",
     "output_type": "stream",
     "text": [
      "/newfoundland/ScanNet/scans/scene0329_01/scene0329_01_vh_clean_2.ply\n",
      "(368473, 3) [ 9.308865 10.587272  2.998444] [ 0.2837082   0.9186443  -0.00797399]\n",
      "(368473, 6) [255.         255.         255.           0.99999771   0.99999848\n",
      "   0.99999987] [ 3.          3.          0.         -0.99999721 -0.99999923 -0.9999985 ]\n",
      "[1. 1. 1. ... 1. 1. 1.]\n",
      "(368473, 9)\n"
     ]
    }
   ],
   "source": [
    "from utils.point_cloud_utils import load_ply_with_normals\n",
    "import numpy as np\n",
    "\n",
    "print(filepath)\n",
    "coords, features, _ = load_ply_with_normals(filepath)\n",
    "\n",
    "print(coords.shape, np.amax(coords, axis=0), np.amin(coords, axis=0))\n",
    "print(features.shape, np.amax(features, axis=0), np.amin(features, axis=0)) # 3 channels features (RGB) + 3 channel normals\n",
    "print(np.linalg.norm(features[:, 3:], axis=1)) # check if normals are unit vectors -> YES\n",
    "\n",
    "file_len = len(coords)\n",
    "filebase[\"file_len\"] = file_len\n",
    "points = np.hstack((coords, features))\n",
    "\n",
    "print(points.shape) # (N, 9): x, y, z, R(255), G(255), B(255), nx, ny, nz"
   ]
  },
  {
   "cell_type": "code",
   "execution_count": 6,
   "metadata": {},
   "outputs": [
    {
     "name": "stdout",
     "output_type": "stream",
     "text": [
      "/newfoundland/ScanNet/scans/scene0329_01/scene0329_01.txt\n",
      "Lobby\n",
      "/newfoundland/ScanNet/scans/scene0329_01/scene0329_01.aggregation.json\n",
      "/newfoundland/ScanNet/scans/scene0329_01/scene0329_01_vh_clean_2.0.010000.segs.json\n",
      "(368473,) [53442 53442 53442 53442 53442] (2817,)\n",
      "(368473,) [526 526 526 526 526] 2816 0\n",
      "(368473, 10)\n"
     ]
    }
   ],
   "source": [
    "'''\n",
    "http://www.scan-net.org/ScanNet/\n",
    "\n",
    "<scanId>\n",
    "|-- <scanId>.sens\n",
    "    RGB-D sensor stream containing color frames, depth frames, camera poses and other data\n",
    "|-- <scanId>_vh_clean.ply\n",
    "    High quality reconstructed mesh\n",
    "|-- <scanId>_vh_clean_2.ply\n",
    "    Cleaned and decimated mesh for semantic annotations\n",
    "|-- <scanId>_vh_clean_2.0.010000.segs.json\n",
    "    Over-segmentation of annotation mesh\n",
    "\n",
    "|-- <scanId>.aggregation.json, <scanId>_vh_clean.aggregation.json\n",
    "    Aggregated instance-level semantic annotations on lo-res, hi-res meshes, respectively\n",
    "|-- <scanId>_vh_clean_2.0.010000.segs.json, <scanId>_vh_clean.segs.json\n",
    "    Over-segmentation of lo-res, hi-res meshes, respectively (referenced by aggregated semantic annotations)\n",
    "    \n",
    "|-- <scanId>_vh_clean_2.labels.ply\n",
    "    Visualization of aggregated semantic segmentation; colored by nyu40 labels (see img/legend; ply property 'label' denotes the nyu40 label id)\n",
    "    \n",
    "|-- <scanId>_2d-label.zip\n",
    "    Raw 2d projections of aggregated annotation labels as 16-bit pngs with ScanNet label ids\n",
    "|-- <scanId>_2d-instance.zip\n",
    "    Raw 2d projections of aggregated annotation instances as 8-bit pngs\n",
    "|-- <scanId>_2d-label-filt.zip\n",
    "    Filtered 2d projections of aggregated annotation labels as 16-bit pngs with ScanNet label ids\n",
    "|-- <scanId>_2d-instance-filt.zip\n",
    "    Filtered 2d projections of aggregated annotation instances as 8-bit pngs\n",
    "'''\n",
    "\n",
    "mode = 'train'\n",
    "\n",
    "# getting scene information\n",
    "description_filepath = Path(\n",
    "    filepath\n",
    ").parent / filepath.name.replace(\"_vh_clean_2.ply\", \".txt\")\n",
    "print(description_filepath)\n",
    "with open(description_filepath) as f:\n",
    "    scene_type = f.read().split(\"\\n\")[:-1]\n",
    "scene_type = scene_type[-1].split(\" = \")[1]\n",
    "print(scene_type)\n",
    "\n",
    "filebase[\"scene_type\"] = scene_type\n",
    "filebase[\"raw_description_filepath\"] = description_filepath\n",
    "\n",
    "# getting instance info\n",
    "instance_info_filepath = next(\n",
    "    Path(filepath).parent.glob(\"*.aggregation.json\")\n",
    ")\n",
    "filebase[\"raw_instance_filepath\"] = instance_info_filepath\n",
    "print(instance_info_filepath)\n",
    "\n",
    "segment_indexes_filepath = next(\n",
    "    Path(filepath).parent.glob(\"*[0-9].segs.json\")\n",
    ")\n",
    "print(segment_indexes_filepath)\n",
    "segments = scannet_processor._read_json(segment_indexes_filepath)\n",
    "segments = np.array(segments[\"segIndices\"]) # // per-vertex index of mesh segment\n",
    "filebase[\"raw_segmentation_filepath\"] = segment_indexes_filepath\n",
    "\n",
    "print(segments.shape, segments[0:5], np.unique(segments).shape)\n",
    "\n",
    "# add segment id as additional feature\n",
    "segment_ids = np.unique(segments, return_inverse=True)[1]\n",
    "points = np.hstack((points, segment_ids[..., None]))\n",
    "print(segment_ids.shape, segment_ids[:5], np.amax(segment_ids), np.amin(segment_ids))\n",
    "print(points.shape) # (N, 9): x, y, z, R(255), G(255), B(255), nx, ny, nz, segment_ids\n",
    "\n",
    "np.save(str('segment_ids.npy'), segment_ids)"
   ]
  },
  {
   "cell_type": "code",
   "execution_count": 5,
   "metadata": {},
   "outputs": [
    {
     "name": "stdout",
     "output_type": "stream",
     "text": [
      "95691 158\n",
      "470 0\n"
     ]
    }
   ],
   "source": [
    "print(np.amax(segments), np.amin(segments))\n",
    "print(np.amax(segment_ids), np.amin(segment_ids))"
   ]
  },
  {
   "cell_type": "code",
   "execution_count": 34,
   "metadata": {},
   "outputs": [
    {
     "name": "stdout",
     "output_type": "stream",
     "text": [
      "/newfoundland/ScanNet/scans/scene0055_00/scene0055_00_vh_clean_2.labels.ply\n",
      "(95715, 3) [3.7441688 3.1282358 2.2303934] [-0.03978582 -0.00638135  0.00121044]\n",
      "(95715,) [2 2 8 8 8] [ 0  1  2  4  5  8  9 14 39] 0.06750248132476623\n"
     ]
    }
   ],
   "source": [
    "# reading labels file\n",
    "'''\n",
    "ply property 'label' denotes the nyu40 label id\n",
    "\n",
    "https://github.com/ScanNet/ScanNet/blob/3e5726500896748521a6ceb81271b0f5b2c0e7d2/BenchmarkScripts/util.py#L81\n",
    "\n",
    "[!!!] 0 - unannotated\n",
    "'''\n",
    "\n",
    "label_filepath = filepath.parent / filepath.name.replace(\n",
    "    \".ply\", \".labels.ply\"\n",
    ")\n",
    "print(label_filepath)\n",
    "filebase[\"raw_label_filepath\"] = label_filepath\n",
    "label_coords, label_colors, labels = load_ply_with_normals(\n",
    "    label_filepath\n",
    ")\n",
    "if not np.allclose(coords, label_coords):\n",
    "    raise ValueError(\"files doesn't have same coordinates\")\n",
    "\n",
    "print(label_coords.shape, np.amax(label_coords, axis=0), np.amin(label_coords, axis=0))\n",
    "print(labels.shape, labels[:5], np.unique(labels), np.sum(labels == 0) / float(len(labels)))"
   ]
  },
  {
   "cell_type": "code",
   "execution_count": 35,
   "metadata": {},
   "outputs": [
    {
     "name": "stdout",
     "output_type": "stream",
     "text": [
      "(95715, 2) int64\n",
      "13 {'id': 0, 'objectId': 0, 'segments': [8401, 6853, 9262, 15941, 9487, 8595, 9292, 4112, 9534, 8458, 9116, 4132, 8015, 5860, 9176, 6097, 6726, 6569, 8177, 7893, 7254, 7591, 8443, 5926, 6844, 8290, 8314, 6085, 9626, 6555, 9296, 14296, 6452, 8069, 9201], 'label': 'window'}\n",
      "(95715, 12) (95715, 2)\n"
     ]
    }
   ],
   "source": [
    "# adding instance label\n",
    "labels = labels[:, np.newaxis]\n",
    "empty_instance_label = np.full(labels.shape, -1) # [!!!!!] -1: empty instance label\n",
    "labels = np.hstack((labels, empty_instance_label))\n",
    "print(labels.shape, labels.dtype)\n",
    "\n",
    "instance_db = scannet_processor._read_json(instance_info_filepath)\n",
    "print(len(instance_db[\"segGroups\"]), instance_db[\"segGroups\"][0])\n",
    "\n",
    "for instance in instance_db[\"segGroups\"]:\n",
    "    segments_occupied = np.array(instance[\"segments\"])\n",
    "    occupied_indices = np.isin(segments, segments_occupied)\n",
    "    labels[occupied_indices, 1] = instance[\"id\"]\n",
    "\n",
    "    # if scannet_processor.scannet200:\n",
    "    #     label200 = instance[\"label\"]\n",
    "    #     # Map the category name to id\n",
    "    #     label_ids = scannet_processor.labels_pd[\n",
    "    #         scannet_processor.labels_pd[\"raw_category\"] == label200\n",
    "    #     ][\"id\"]\n",
    "    #     label_id = (\n",
    "    #         int(label_ids.iloc[0]) if len(label_ids) > 0 else 0\n",
    "    #     )\n",
    "    #     labels[occupied_indices, 0] = label_id\n",
    "    \n",
    "print(points.shape, labels.shape)\n",
    "points = np.hstack((points, labels))\n",
    "\n",
    "# gt_data = (points[:, -2] + 1) * 1000 + points[:, -1] + 1\n",
    "gt_data = points[:, -2] * 1000 + points[:, -1] + 1\n"
   ]
  },
  {
   "cell_type": "code",
   "execution_count": 44,
   "metadata": {},
   "outputs": [
    {
     "name": "stdout",
     "output_type": "stream",
     "text": [
      "12 -1 [-1  0  1  2  3  4  5  6  7  8  9 10 11 12]\n"
     ]
    }
   ],
   "source": [
    "print(np.amax(labels[:, -1]), np.amin(labels[:, -1]), np.unique(labels[:, -1]))"
   ]
  },
  {
   "cell_type": "code",
   "execution_count": 31,
   "metadata": {},
   "outputs": [
    {
     "data": {
      "text/plain": [
       "array([-1,  0,  1,  2,  3,  4,  5,  6,  7,  8,  9, 10, 11, 12])"
      ]
     },
     "execution_count": 31,
     "metadata": {},
     "output_type": "execute_result"
    }
   ],
   "source": [
    "np.unique(labels[:, 1])"
   ]
  }
 ],
 "metadata": {
  "kernelspec": {
   "display_name": "py310mask3d_cuda118",
   "language": "python",
   "name": "python3"
  },
  "language_info": {
   "codemirror_mode": {
    "name": "ipython",
    "version": 3
   },
   "file_extension": ".py",
   "mimetype": "text/x-python",
   "name": "python",
   "nbconvert_exporter": "python",
   "pygments_lexer": "ipython3",
   "version": "3.10.9"
  },
  "orig_nbformat": 4
 },
 "nbformat": 4,
 "nbformat_minor": 2
}
